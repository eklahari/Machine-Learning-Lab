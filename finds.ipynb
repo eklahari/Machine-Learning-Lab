{
 "cells": [
  {
   "cell_type": "code",
   "execution_count": 67,
   "id": "09c5fefe",
   "metadata": {},
   "outputs": [
    {
     "name": "stdout",
     "output_type": "stream",
     "text": [
      "given dataset:\n",
      "      SKY AirTemp Humidity    Wind Water Forecast EnjoySport\n",
      "0  sunny    warm   normal  strong  warm     same        yes\n",
      "1  sunny    warm     high  strong  warm     same        yes\n",
      "2  rainy    cold     high  strong  warm   change         no\n",
      "3  sunny    warm     high  strong  cool   change        yes\n"
     ]
    }
   ],
   "source": [
    "#finds algorithmimplementation\n",
    "import pandas as pd\n",
    "d=pd.read_csv(\"enjoysport.csv\")\n",
    "print(\"given dataset:\\n\",d)"
   ]
  },
  {
   "cell_type": "code",
   "execution_count": 65,
   "id": "2fcd7190",
   "metadata": {},
   "outputs": [
    {
     "name": "stdout",
     "output_type": "stream",
     "text": [
      "Most specific hypothesis:\n",
      " [0, 0, 0, 0, 0, 0]\n",
      "Most general hypothesis:\n",
      " ['?', '?', '?', '?', '?', '?']\n",
      "Maximally specific hypothesis:\n",
      " ['sunny', 'warm', '?', 'strong', '?', '?']\n"
     ]
    }
   ],
   "source": [
    "#Find-S: finding the maximally specific hypothesis\n",
    "h=[0,0,0,0,0,0]\n",
    "print(\"Most specific hypothesis:\\n\",h)\n",
    "print(\"Most general hypothesis:\\n\",['?']*6)\n",
    "for i,row in d.iterrows():\n",
    "    if row['EnjoySport']=='yes':\n",
    "        for i in range(len(h)):\n",
    "            if h[i]==0:\n",
    "                 h[i]=row[i]\n",
    "            elif h[i]!=row[i]:\n",
    "                 h[i]='?'\n",
    "print(\"Maximally specific hypothesis:\\n\",h)"
   ]
  }
 ],
 "metadata": {
  "kernelspec": {
   "display_name": "Python 3 (ipykernel)",
   "language": "python",
   "name": "python3"
  },
  "language_info": {
   "codemirror_mode": {
    "name": "ipython",
    "version": 3
   },
   "file_extension": ".py",
   "mimetype": "text/x-python",
   "name": "python",
   "nbconvert_exporter": "python",
   "pygments_lexer": "ipython3",
   "version": "3.11.3"
  }
 },
 "nbformat": 4,
 "nbformat_minor": 5
}
